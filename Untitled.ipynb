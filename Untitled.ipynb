{
 "cells": [
  {
   "cell_type": "markdown",
   "metadata": {},
   "source": [
    "# Data 512 Final Project: Identifying the biggest voting shifts in Michigan from 2008-2020\n",
    "\n",
    "# Motivation & Problem Statement\n",
    "With the most recent election slowly drawing to a close, we now have another year of election data to dive into. This analysis will attempt to identify the biggest changes in voting patterns in Michigan from 2008-2020. Michigan provded to be a very close battleground state in the 2020 election, and potential trends or changes in the state's voting pattern may provide insight into how the state leans into future elections or demographic changes.\n",
    "\n",
    "# Dataset\n",
    "https://search.lib.umich.edu/catalog/record/017967014\n",
    "\n",
    "# Unknowns\n",
    "Still seeking demographic level data"
   ]
  }
 ],
 "metadata": {
  "kernelspec": {
   "display_name": "Python 3",
   "language": "python",
   "name": "python3"
  },
  "language_info": {
   "codemirror_mode": {
    "name": "ipython",
    "version": 3
   },
   "file_extension": ".py",
   "mimetype": "text/x-python",
   "name": "python",
   "nbconvert_exporter": "python",
   "pygments_lexer": "ipython3",
   "version": "3.7.4"
  }
 },
 "nbformat": 4,
 "nbformat_minor": 2
}
